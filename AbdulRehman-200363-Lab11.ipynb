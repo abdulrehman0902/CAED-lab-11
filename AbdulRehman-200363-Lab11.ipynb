{
 "cells": [
  {
   "cell_type": "code",
   "execution_count": 1,
   "id": "26e11b20",
   "metadata": {},
   "outputs": [
    {
     "name": "stdout",
     "output_type": "stream",
     "text": [
      "Enetr name :Ali\n",
      "Enter roll no : 200\n",
      "Enter marks obtained in CP : 98\n",
      "Enter marks obtained in OOP : 89\n",
      "Enter marks obtained in CAED : 89\n",
      "Displaying Student Data...\n",
      "Name :  Ali\n",
      "Roll no. :  200\n",
      "CP marks :  98\n",
      "OOP marks :  89\n",
      "CAED marks :  89\n",
      "Total is :  276\n",
      "Average is :  92.0\n",
      "Enetr name :Hassan\n",
      "Enter roll no : 87\n",
      "Enter marks obtained in CP : 68\n",
      "Enter marks obtained in OOP : 89\n",
      "Enter marks obtained in CAED : 88\n",
      "Displaying Student Data...\n",
      "Name :  Hassan\n",
      "Roll no. :  87\n",
      "CP marks :  68\n",
      "OOP marks :  89\n",
      "CAED marks :  88\n",
      "Total is :  245\n",
      "Average is :  81.66666666666667\n",
      "Ali has obtained more marks.\n"
     ]
    }
   ],
   "source": [
    "#task 1\n",
    "class student_result:\n",
    "    def inpuT(self):\n",
    "        self.name=input(\"Enetr name :\")\n",
    "        self.roll_no=int(input(\"Enter roll no : \"))\n",
    "        self.cp=int(input(\"Enter marks obtained in CP : \"))\n",
    "        self.oop=int(input(\"Enter marks obtained in OOP : \"))\n",
    "        self.caed=int(input(\"Enter marks obtained in CAED : \"))\n",
    "    def show(self):\n",
    "        print(\"Displaying Student Data...\")\n",
    "        print(\"Name : \",self.name)\n",
    "        print(\"Roll no. : \",self.roll_no)\n",
    "        print(\"CP marks : \",self.cp)\n",
    "        print(\"OOP marks : \",self.oop)\n",
    "        print(\"CAED marks : \",self.caed)\n",
    "    def total(self):\n",
    "        return self.oop+self.cp+self.caed\n",
    "    def average(self):\n",
    "        return (self.oop+self.cp+self.caed)/3\n",
    "      \n",
    "#main\n",
    "s1=student_result()\n",
    "s1.inpuT()\n",
    "s1.show()\n",
    "t1=s1.total()\n",
    "print(\"Total is : \",t1)\n",
    "print(\"Average is : \",s1.average())\n",
    "\n",
    "s2=student_result()\n",
    "s2.inpuT()\n",
    "s2.show()\n",
    "t2=s2.total()\n",
    "print(\"Total is : \",t2)\n",
    "print(\"Average is : \",s2.average())\n",
    "\n",
    "if t2 > t1 :\n",
    "    print(\"Hassan has obtained more marks.\")\n",
    "else:\n",
    "    print(\"Ali has obtained more marks.\")"
   ]
  },
  {
   "cell_type": "code",
   "execution_count": 2,
   "id": "39154a71",
   "metadata": {},
   "outputs": [
    {
     "name": "stdout",
     "output_type": "stream",
     "text": [
      "The sun is a huge ball of gases. It has a diameter of 1,392,000 km. It is so huge that it can hold millions of planets inside it. \n",
      "The Sun is mainly made up of hydrogen and helium gas. The surface of the Sun is known as the photosphere. \n",
      "The photosphere is surrounded by a thin layer of gas known as the chromospheres. Without the Sun, there would be no life on Earth. \n",
      "There would be no plants, no animals and no human beings. As, all the living things on Earth get their energy from the Sun for their survival.\n"
     ]
    }
   ],
   "source": [
    "#task 2\n",
    "with open(\"CAED Lab 11.txt\",\"r\") as c:\n",
    "    text=c.read()\n",
    "print(text)"
   ]
  },
  {
   "cell_type": "code",
   "execution_count": 3,
   "id": "bf7441ce",
   "metadata": {},
   "outputs": [
    {
     "name": "stdout",
     "output_type": "stream",
     "text": [
      "D\n"
     ]
    }
   ],
   "source": [
    "#task3\n",
    "import Grade\n",
    "Grade.grade_check(45)"
   ]
  },
  {
   "cell_type": "code",
   "execution_count": 4,
   "id": "951053e5",
   "metadata": {},
   "outputs": [
    {
     "name": "stdout",
     "output_type": "stream",
     "text": [
      "{'s1': {'Name': 'student1', 'Roll no': '300', 'Gpa': '3.3'}, 's2': {'Name': 'student2', 'Roll no': '301', 'Gpa': '3.4'}}\n"
     ]
    }
   ],
   "source": [
    "#task4 \n",
    "import json\n",
    "students={'s1':{'Name':'student1','Roll no':'300','Gpa':'3.3'},'s2':{'Name':'student2','Roll no':'301','Gpa':'3.4'}}\n",
    "\n",
    "with open(\"students.json\",\"w\") as s:\n",
    "    json.dump(students,s)\n",
    "\n",
    "with open(\"students.json\") as s:\n",
    "    students=json.load(s)\n",
    "\n",
    "print(students)"
   ]
  },
  {
   "cell_type": "code",
   "execution_count": 5,
   "id": "e7526172",
   "metadata": {},
   "outputs": [
    {
     "name": "stdout",
     "output_type": "stream",
     "text": [
      "   Year       Host(s)   Final Venue       Winner  Runner-up\n",
      "0  2007  South Africa  Johannesburg        India   Pakistan\n",
      "1  2009       England        London     Pakistan  Sirilanka\n",
      "2  2010   West Indies    Bridgetown      England  Australia\n",
      "3  2012     Sirilanka       Colombo  West Indies  Sirilanka\n",
      "\n",
      "After appending...\n",
      "\n",
      "   Year       Host(s)   Final Venue       Winner  Runner-up\n",
      "0  2007  South Africa  Johannesburg        India   Pakistan\n",
      "1  2009       England        London     Pakistan  Sirilanka\n",
      "2  2010   West Indies    Bridgetown      England  Australia\n",
      "3  2012     Sirilanka       Colombo  West Indies  Sirilanka\n",
      "4  2014    Bangladesh         Dhaka    Sirilanka      India\n",
      "5  2016         India       Kolkata  West Indies    England\n"
     ]
    }
   ],
   "source": [
    "#task 5\n",
    "import csv \n",
    "import pandas as pd\n",
    "\n",
    "with open(\"CAED lab11 task5.csv\", \"w\", newline=\"\") as f:\n",
    "    data_handler = csv.writer(f, delimiter=\",\")   #special object\n",
    "    data_handler.writerow(['Year', 'Host(s)', 'Final Venue', 'Winner', 'Runner-up'])\n",
    "    data_handler.writerow(['2007', 'South Africa', 'Johannesburg', 'India','Pakistan'])\n",
    "    data_handler.writerow(['2009', 'England', 'London', 'Pakistan','Sirilanka'])\n",
    "    data_handler.writerow(['2010', 'West Indies', 'Bridgetown', 'England','Australia'])\n",
    "    data_handler.writerow(['2012', 'Sirilanka', 'Colombo', 'West Indies','Sirilanka'])\n",
    "\n",
    "df = pd.read_csv(\"CAED lab11 task5.csv\")\n",
    "print(df)\n",
    "    \n",
    "with open(\"CAED lab11 task5.csv\", \"a\", newline=\"\") as f:\n",
    "    data_handler = csv.writer(f, delimiter=\",\")   #special object\n",
    "    data_handler.writerow(['2014', 'Bangladesh', 'Dhaka', 'Sirilanka','India'])\n",
    "    data_handler.writerow(['2016', 'India', 'Kolkata', 'West Indies','England'])\n",
    "\n",
    "print(\"\\nAfter appending...\\n\")\n",
    "app = pd.read_csv(\"CAED lab11 task5.csv\")\n",
    "print(app)"
   ]
  }
 ],
 "metadata": {
  "kernelspec": {
   "display_name": "Python 3 (ipykernel)",
   "language": "python",
   "name": "python3"
  },
  "language_info": {
   "codemirror_mode": {
    "name": "ipython",
    "version": 3
   },
   "file_extension": ".py",
   "mimetype": "text/x-python",
   "name": "python",
   "nbconvert_exporter": "python",
   "pygments_lexer": "ipython3",
   "version": "3.9.7"
  }
 },
 "nbformat": 4,
 "nbformat_minor": 5
}
